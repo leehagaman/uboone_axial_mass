{
 "cells": [
  {
   "cell_type": "code",
   "execution_count": null,
   "metadata": {},
   "outputs": [],
   "source": [
    "import numpy as np\n",
    "import uproot as uproot\n",
    "import uproot3 as uproot3\n",
    "import matplotlib.pyplot as plt\n",
    "import matplotlib as mpl\n",
    "import pandas as pd\n",
    "\n",
    "from tqdm.notebook import tqdm\n",
    "\n",
    "from get_MA_trio_cov_mat import get_prediction_cv_and_variations_dataframes, get_MA_trio_cov_mat_pred, extract_trio\n",
    "\n",
    "import pickle\n"
   ]
  },
  {
   "cell_type": "code",
   "execution_count": null,
   "metadata": {},
   "outputs": [],
   "source": [
    "all_df, all_vars_df, num_unisim_variations_dic, nu_overlay_run1_pot, nu_overlay_run2_pot, nu_overlay_run3_pot, dirt_run1_pot, dirt_run2_pot, dirt_run3_pot = get_prediction_cv_and_variations_dataframes()\n"
   ]
  },
  {
   "cell_type": "code",
   "execution_count": null,
   "metadata": {},
   "outputs": [],
   "source": [
    "cov_MA, pred_MA, data = get_MA_trio_cov_mat_pred(\n",
    "    all_df, all_vars_df, num_unisim_variations_dic, nu_overlay_run1_pot, nu_overlay_run2_pot, nu_overlay_run3_pot, dirt_run1_pot, dirt_run2_pot, dirt_run3_pot,\n",
    "    use_nuwro_fake_data = True,\n",
    "    reweight_nuwro_fake_data = False,\n",
    "    reweight_nuwro_M_A = np.nan\n",
    ")\n"
   ]
  },
  {
   "cell_type": "code",
   "execution_count": null,
   "metadata": {},
   "outputs": [],
   "source": [
    "constrained_trio, constrained_trio_cov, prior_removed_MA, prior_removed_MA_sigma = extract_trio(cov_MA, pred_MA, data)\n",
    "\n",
    "print(prior_removed_MA)\n",
    "print(prior_removed_MA_sigma)\n"
   ]
  },
  {
   "cell_type": "code",
   "execution_count": null,
   "metadata": {},
   "outputs": [],
   "source": []
  }
 ],
 "metadata": {
  "kernelspec": {
   "display_name": "base_2",
   "language": "python",
   "name": "python3"
  },
  "language_info": {
   "codemirror_mode": {
    "name": "ipython",
    "version": 3
   },
   "file_extension": ".py",
   "mimetype": "text/x-python",
   "name": "python",
   "nbconvert_exporter": "python",
   "pygments_lexer": "ipython3",
   "version": "3.10.10"
  }
 },
 "nbformat": 4,
 "nbformat_minor": 2
}
