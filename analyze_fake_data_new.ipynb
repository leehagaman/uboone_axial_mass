{
 "cells": [
  {
   "cell_type": "code",
   "execution_count": null,
   "metadata": {},
   "outputs": [],
   "source": [
    "import numpy as np\n",
    "import uproot as uproot\n",
    "import uproot3 as uproot3\n",
    "import matplotlib.pyplot as plt\n",
    "import matplotlib as mpl\n",
    "import pandas as pd\n",
    "\n",
    "from tqdm.notebook import tqdm\n",
    "\n",
    "from get_MA_trio_cov_mat import get_prediction_cv_and_variations_dataframes, get_MA_trio_cov_mat_pred, extract_trio\n",
    "\n",
    "import pickle\n"
   ]
  },
  {
   "cell_type": "code",
   "execution_count": null,
   "metadata": {},
   "outputs": [],
   "source": [
    "nuwro_fake_data_true_MA = 1.03 # From Afro slack 2024_06_10\n",
    "genie_v2_fake_data_true_MA = 0.99 # Nitish slack 2023_04_25\n"
   ]
  },
  {
   "cell_type": "markdown",
   "metadata": {},
   "source": [
    "# Generator Fake Data Extractions"
   ]
  },
  {
   "cell_type": "code",
   "execution_count": null,
   "metadata": {},
   "outputs": [],
   "source": [
    "# GENIE v2 fake data\n",
    "cov_MA, pred_MA, data = get_MA_trio_cov_mat_pred(\n",
    "    use_genie_v2_fake_data = True\n",
    ")\n",
    "constrained_trio, constrained_trio_cov, prior_removed_MA, prior_removed_MA_sigma = extract_trio(cov_MA, pred_MA, data)\n",
    "genie_v2_fake_data_extracted_MA_no_prior_removal, genie_v2_fake_data_extracted_MA_no_prior_removal_sigma = constrained_trio[0], np.sqrt(constrained_trio_cov[0][0])\n",
    "genie_v2_fake_data_extracted_MA, genie_v2_fake_data_extracted_MA_sigma = prior_removed_MA, prior_removed_MA_sigma\n",
    "\n",
    "# NuWro fake data\n",
    "cov_MA, pred_MA, data = get_MA_trio_cov_mat_pred(\n",
    "    use_nuwro_fake_data = True,\n",
    "    reweight_nuwro_fake_data = False,\n",
    ")\n",
    "# using NuWro setup for Asimov data and setting prior variables\n",
    "asimov_data = pred_MA[:-3]\n",
    "constrained_trio, constrained_trio_cov, prior_removed_MA, prior_removed_MA_sigma = extract_trio(cov_MA, pred_MA, asimov_data)\n",
    "asimov_data_extracted_MA_no_prior_removal, asimov_data_extracted_MA_no_prior_removal_sigma = constrained_trio[0], np.sqrt(constrained_trio_cov[0][0])\n",
    "asimov_data_extracted_MA, asimov_data_extracted_MA_sigma = prior_removed_MA, prior_removed_MA_sigma\n",
    "trio_prior = pred_MA[-3:]\n",
    "cov_prior = cov_MA[-3:, -3:]\n",
    "prior_MA = trio_prior[0]\n",
    "prior_MA_sigma = np.sqrt(cov_prior[0][0])\n",
    "asimov_true_MA = prior_MA\n",
    "# NuWro fake data\n",
    "constrained_trio, constrained_trio_cov, prior_removed_MA, prior_removed_MA_sigma = extract_trio(cov_MA, pred_MA, data)\n",
    "nuwro_fake_data_extracted_MA_no_prior_removal, nuwro_fake_data_extracted_MA_no_prior_removal_sigma = constrained_trio[0], np.sqrt(constrained_trio_cov[0][0])\n",
    "nuwro_fake_data_extracted_MA, nuwro_fake_data_extracted_MA_sigma = prior_removed_MA, prior_removed_MA_sigma\n"
   ]
  },
  {
   "cell_type": "markdown",
   "metadata": {},
   "source": [
    "# Variation Fake Data Samples"
   ]
  },
  {
   "cell_type": "code",
   "execution_count": null,
   "metadata": {},
   "outputs": [],
   "source": [
    "total_sys_data_true_fluctuations = np.random.multivariate_normal(pred_MA, cov_MA, size=600)\n",
    "total_sys_true_MAs = [x[-3] for x in total_sys_data_true_fluctuations]\n",
    "total_sys_data_fluctuations = [x[:-3] for x in total_sys_data_true_fluctuations]\n",
    "\n",
    "total_sys_reco_MAs = []\n",
    "total_sys_reco_MA_sigmas = []\n",
    "total_sys_reco_MAs_no_prior_removal = []\n",
    "total_sys_reco_MA_sigmas_no_prior_removal = []\n",
    "\n",
    "extracted_outputs = extract_trio(cov_MA, pred_MA, total_sys_data_fluctuations)\n",
    "\n",
    "for tup in extracted_outputs:\n",
    "    constrained_trio, constrained_trio_cov, prior_removed_MA, prior_removed_MA_sigma = tup\n",
    "    total_sys_reco_MAs.append(prior_removed_MA)\n",
    "    total_sys_reco_MA_sigmas.append(prior_removed_MA_sigma)\n",
    "    total_sys_reco_MAs_no_prior_removal.append(constrained_trio[0])\n",
    "    total_sys_reco_MA_sigmas_no_prior_removal.append(np.sqrt(constrained_trio_cov[0,0]))\n"
   ]
  },
  {
   "cell_type": "code",
   "execution_count": null,
   "metadata": {},
   "outputs": [],
   "source": [
    "plt.rcParams.update({'font.size': 10})\n",
    "s = 20\n",
    "\n",
    "def plot_bold_MA_value(true_MA, extracted_MA, extracted_MA_sigma, label, color, zorder):\n",
    "    plt.scatter(true_MA, extracted_MA, s=30, label=label + f\": {extracted_MA:.3f} \"r\"$\\pm$\"f\" {extracted_MA_sigma:.3f} \"\n",
    "            r\"$\\mathrm{GeV/c^2}$\"f\"\\n\\t\\t\\tTrue: {true_MA:.3f} \"r\"$\\mathrm{GeV/c^2}$\"\"\\n\\t\\t\\t\"\n",
    "            fr\"$\\sigma = {np.abs(true_MA - extracted_MA)/extracted_MA_sigma:.3f}$\"\n",
    "            , c=color, zorder=zorder)\n",
    "    plt.scatter(true_MA, extracted_MA, s=70, c=\"k\", zorder=9)\n",
    "    plt.errorbar(true_MA, extracted_MA, yerr=extracted_MA_sigma, fmt=\"none\", c=color, capthick=2, elinewidth=2, capsize=5, zorder=zorder)\n",
    "    plt.errorbar(true_MA, extracted_MA, yerr=extracted_MA_sigma, fmt=\"none\", c=\"k\", capthick=4, elinewidth=4, capsize=6, zorder=9)\n",
    "\n",
    "\n",
    "plt.figure(figsize=(10,7))\n",
    "plt.plot([0.7, 1.5], [0.7, 1.5], c=\"k\", ls=\"dashed\", lw=2, zorder=5)\n",
    "\n",
    "for i in range(600):\n",
    "    label = \"\"\n",
    "    if i == 0: label = \"600 fake data sets from all systematic fluctuations\"\n",
    "    plt.scatter(total_sys_true_MAs[i], total_sys_reco_MAs[i], c=\"tab:green\")\n",
    "    plt.errorbar(total_sys_true_MAs[i], total_sys_reco_MAs[i], yerr=total_sys_reco_MA_sigmas[i], c=\"tab:green\")\n",
    "\n",
    "plot_bold_MA_value(asimov_true_MA, asimov_data_extracted_MA, asimov_data_extracted_MA_sigma, \"Asimov fake data\", \"tab:red\", 10)\n",
    "plot_bold_MA_value(nuwro_fake_data_true_MA, nuwro_fake_data_extracted_MA, nuwro_fake_data_extracted_MA_sigma, \"NuWro fake data\", \"tab:brown\", 10)\n",
    "plot_bold_MA_value(genie_v2_fake_data_true_MA, genie_v2_fake_data_extracted_MA, genie_v2_fake_data_extracted_MA_sigma, \"GENIE v2 fake data\", \"tab:purple\", 10)\n",
    "plt.legend(loc=\"upper left\")\n",
    "plt.xlabel(r\"True $M_A$ (GeV/c$^2$)\")\n",
    "plt.ylabel(r\"Reco $M_A$ (GeV/c$^2$)\")\n",
    "plt.xlim(0.7, 1.5)\n",
    "plt.ylim(0.7, 1.5)\n",
    "plt.show()\n",
    "\n",
    "plt.figure(figsize=(10,7))\n",
    "plt.fill_between([0.7, 1.5], [prior_MA - prior_MA_sigma, prior_MA - prior_MA_sigma], [prior_MA + prior_MA_sigma, prior_MA + prior_MA_sigma], color=\"gray\", alpha=0.2, label=\"GENIE Prior\")\n",
    "plt.plot([0.7, 1.5], [0.7, 1.5], c=\"k\", ls=\"dashed\", lw=2, zorder=5)\n",
    "plot_bold_MA_value(asimov_true_MA, asimov_data_extracted_MA_no_prior_removal, asimov_data_extracted_MA_no_prior_removal_sigma, \"Asimov fake data\", \"tab:red\", 10)\n",
    "plot_bold_MA_value(nuwro_fake_data_true_MA, nuwro_fake_data_extracted_MA_no_prior_removal, nuwro_fake_data_extracted_MA_no_prior_removal_sigma, \"NuWro fake data\", \"tab:brown\", 10)\n",
    "plot_bold_MA_value(genie_v2_fake_data_true_MA, genie_v2_fake_data_extracted_MA_no_prior_removal, genie_v2_fake_data_extracted_MA_no_prior_removal_sigma, \"GENIE v2 fake data\", \"tab:purple\", 10)\n",
    "plt.legend(loc=\"upper left\")\n",
    "plt.xlabel(r\"True $M_A$ (GeV/c$^2$)\")\n",
    "plt.ylabel(r\"Reco $M_A$ Posterior (GeV/c$^2$)\")\n",
    "plt.xlim(0.7, 1.5)\n",
    "plt.ylim(0.7, 1.5)\n",
    "plt.show()\n"
   ]
  },
  {
   "cell_type": "code",
   "execution_count": null,
   "metadata": {},
   "outputs": [],
   "source": []
  }
 ],
 "metadata": {
  "kernelspec": {
   "display_name": "base_2",
   "language": "python",
   "name": "python3"
  },
  "language_info": {
   "codemirror_mode": {
    "name": "ipython",
    "version": 3
   },
   "file_extension": ".py",
   "mimetype": "text/x-python",
   "name": "python",
   "nbconvert_exporter": "python",
   "pygments_lexer": "ipython3",
   "version": "3.10.10"
  }
 },
 "nbformat": 4,
 "nbformat_minor": 2
}
