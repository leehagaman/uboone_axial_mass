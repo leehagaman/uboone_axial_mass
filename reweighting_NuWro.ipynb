{
 "cells": [
  {
   "cell_type": "code",
   "execution_count": null,
   "metadata": {},
   "outputs": [],
   "source": [
    "import numpy as np\n",
    "import uproot as uproot\n",
    "import uproot3 as uproot3\n",
    "import matplotlib.pyplot as plt\n",
    "import matplotlib as mpl\n",
    "import pandas as pd\n",
    "\n",
    "from tqdm.notebook import tqdm\n",
    "\n",
    "import pickle"
   ]
  },
  {
   "cell_type": "markdown",
   "metadata": {},
   "source": [
    "# NuWro From Fake Data"
   ]
  },
  {
   "cell_type": "code",
   "execution_count": null,
   "metadata": {},
   "outputs": [],
   "source": [
    "nuwro_fake_data_true_MA = 1.03"
   ]
  },
  {
   "cell_type": "code",
   "execution_count": null,
   "metadata": {},
   "outputs": [],
   "source": [
    "bdt_vars = [\n",
    "    \"nue_score\",\n",
    "    \"numu_score\",\n",
    "    \"numu_cc_flag\"\n",
    "]\n",
    "\n",
    "eval_vars = [\n",
    "    \"run\",\n",
    "    \"subrun\",\n",
    "    \"event\",\n",
    "    \"match_isFC\",\n",
    "\n",
    "    # these aren't present in the fake data file\n",
    "    #\"truth_nuEnergy\",\n",
    "    #\"truth_nuPdg\",\n",
    "    #\"truth_isCC\",\n",
    "    #\"truth_vtxInside\",\n",
    "    #\"match_completeness_energy\",\n",
    "    #\"truth_energyInside\",\n",
    "    #\"weight_cv\",\n",
    "    #\"weight_spline\",\n",
    "]\n",
    "\n",
    "eval_data_vars = [\n",
    "    \"match_isFC\",\n",
    "]\n",
    "\n",
    "kine_vars = [\n",
    "    \"kine_reco_Enu\",\n",
    "]\n",
    "\n",
    "pf_vars = [\n",
    "    \"reco_muonMomentum\",\n",
    "    #\"truth_muonMomentum\",\n",
    "]\n",
    "\n",
    "pf_data_vars = [\n",
    "    \"reco_muonMomentum\",\n",
    "]\n",
    "\n",
    "loc = \"/Users/leehagaman/data/processed_checkout_rootfiles/\"\n",
    "\n",
    "f = uproot3.open(loc + \"checkout_fakedata_nuwro_run1.root\")[\"wcpselection\"] # run 1 is numuCC only\n",
    "f_bdt = f[\"T_BDTvars\"].pandas.df(bdt_vars, flatten=False)\n",
    "f_eval = f[\"T_eval\"].pandas.df(eval_vars, flatten=False)\n",
    "f_kine = f[\"T_KINEvars\"].pandas.df(kine_vars, flatten=False)\n",
    "f_pfeval = f[\"T_PFeval\"].pandas.df(pf_vars, flatten=False)\n",
    "nuwro_fake_run1_vars_pot = np.sum(f[\"T_pot\"].pandas.df(\"pot_tor875good\", flatten=False)[\"pot_tor875good\"].to_numpy())\n",
    "nuwro_fake_run1_df = pd.concat([f_bdt, f_eval, f_kine, f_pfeval], axis=1, sort=False)\n",
    "nuwro_fake_run1_df[\"file\"] = \"nuwro_fake_run1\"\n",
    "\n",
    "f = uproot3.open(loc + \"checkout_fakedata_nuwro_run2.root\")[\"wcpselection\"]\n",
    "f_bdt = f[\"T_BDTvars\"].pandas.df(bdt_vars, flatten=False)\n",
    "f_eval = f[\"T_eval\"].pandas.df(eval_vars, flatten=False)\n",
    "f_kine = f[\"T_KINEvars\"].pandas.df(kine_vars, flatten=False)\n",
    "f_pfeval = f[\"T_PFeval\"].pandas.df(pf_vars, flatten=False)\n",
    "nuwro_fake_run2_vars_pot = np.sum(f[\"T_pot\"].pandas.df(\"pot_tor875good\", flatten=False)[\"pot_tor875good\"].to_numpy())\n",
    "nuwro_fake_run2_df = pd.concat([f_bdt, f_eval, f_kine, f_pfeval], axis=1, sort=False)\n",
    "nuwro_fake_run2_df[\"file\"] = \"nuwro_fake_run2\"\n",
    "\n",
    "f = uproot3.open(loc + \"checkout_fakedata_nuwro_run3.root\")[\"wcpselection\"]\n",
    "f_bdt = f[\"T_BDTvars\"].pandas.df(bdt_vars, flatten=False)\n",
    "f_eval = f[\"T_eval\"].pandas.df(eval_vars, flatten=False)\n",
    "f_kine = f[\"T_KINEvars\"].pandas.df(kine_vars, flatten=False)\n",
    "f_pfeval = f[\"T_PFeval\"].pandas.df(pf_vars, flatten=False)\n",
    "nuwro_fake_run3_vars_pot = np.sum(f[\"T_pot\"].pandas.df(\"pot_tor875good\", flatten=False)[\"pot_tor875good\"].to_numpy())\n",
    "nuwro_fake_run3_df = pd.concat([f_bdt, f_eval, f_kine, f_pfeval], axis=1, sort=False)\n",
    "nuwro_fake_run3_df[\"file\"] = \"nuwro_fake_run3\"\n",
    "del f\n",
    "del f_bdt\n",
    "del f_eval\n",
    "del f_kine\n",
    "del f_pfeval\n",
    "\n",
    "wc_nuwro_fake_df = pd.concat([nuwro_fake_run1_df, nuwro_fake_run2_df, nuwro_fake_run3_df], axis=0, sort=False)\n",
    "\n",
    "wc_nuwro_fake_df\n"
   ]
  },
  {
   "cell_type": "code",
   "execution_count": null,
   "metadata": {},
   "outputs": [],
   "source": [
    "f = uproot.open(f\"/Users/leehagaman/data/pelee_files/high_stat_prodgenie_bnb_nu_overlay_DetVar_Run1_NuWro_reco2_reco2.root\")[\"nuselection\"][\"NeutrinoSelectionFilter\"]\n",
    "\n",
    "\n",
    "for item in f.items():\n",
    "    if True:\n",
    "        print(item)\n",
    "    elif \"nu\" in item[0]:\n",
    "        print(item)\n",
    "    elif \"q\" in item[0] or \"Q\" in item[0]:\n",
    "        print(item)\n"
   ]
  },
  {
   "cell_type": "code",
   "execution_count": null,
   "metadata": {},
   "outputs": [],
   "source": [
    "for r in [1,2,3]:\n",
    "\n",
    "    f = uproot.open(f\"/Users/leehagaman/data/pelee_files/high_stat_prodgenie_bnb_nu_overlay_DetVar_Run{r}_NuWro_reco2_reco2.root\")[\"nuselection\"][\"NeutrinoSelectionFilter\"]\n",
    "\n",
    "    run = f[\"run\"].array()\n",
    "    subrun = f[\"sub\"].array()\n",
    "    event = f[\"evt\"].array()\n",
    "    nu_pdg = f[\"nu_pdg\"].array()\n",
    "    interaction = f[\"interaction\"].array()\n",
    "    true_nu_energy = f[\"nu_e\"].array() * 1000.\n",
    "    true_lep_energy = f[\"lep_e\"].array() * 1000.\n",
    "    true_lep_theta = f[\"theta\"].array()\n",
    "\n",
    "    if r == 1:\n",
    "        print(f\"creating df with {len(run)} entries\")\n",
    "        pelee_nuWro_truth_df = pd.DataFrame({\"run\": run, \"subrun\": subrun, \"event\": event, \n",
    "                                             \"pl_true_nu_pdg\": nu_pdg,\n",
    "                                             \"pl_true_nu_energy\": true_nu_energy, \"pl_true_lep_energy\": true_lep_energy, \"pl_true_lep_theta\": true_lep_theta,\n",
    "                                             \"pl_interaction_type\": interaction})\n",
    "    else:\n",
    "        print(f\"appending df with {len(run)} entries\")\n",
    "        pelee_nuWro_truth_df = pd.concat([pelee_nuWro_truth_df, pd.DataFrame({\"run\": run, \"subrun\": subrun, \"event\": event, \n",
    "                                                                              \"pl_true_nu_pdg\": nu_pdg,\n",
    "                                                                              \"pl_true_nu_energy\": true_nu_energy, \"pl_true_lep_energy\": true_lep_energy, \"pl_true_lep_theta\": true_lep_theta,\n",
    "                                                                              \"pl_interaction_type\": interaction})])\n",
    "        \n",
    "\n",
    "# Q^2 = - (p_nu - p_mu)^2\n",
    "#     = -p_nu^2 + 2 p_nu * p_mu - p_mu^2\n",
    "#     = -m_nu^2 + 2 E_nu * E_mu - 2 * P_nu * P_mu * cos(theta) - m_mu^2\n",
    "#     = 2 E_nu * E_mu - 2 * E_nu * P_mu * cos(theta) - m_mu^2\n",
    "#     = 2 * E_nu * (E_mu - P_mu * cos(theta)) - m_mu^2\n",
    "\n",
    "pelee_nuWro_truth_df[\"pl_true_lep_mass\"] = [105.6583755 if abs(pdg) == 13 else 0.51099895069 if abs(pdg) == 11 else 0. for pdg in pelee_nuWro_truth_df[\"pl_true_nu_pdg\"]]\n",
    "pelee_nuWro_truth_df[\"pl_true_lep_KE\"] = pelee_nuWro_truth_df[\"pl_true_lep_energy\"] - pelee_nuWro_truth_df[\"pl_true_lep_mass\"]\n",
    "pelee_nuWro_truth_df[\"pl_true_lep_momentum\"] = np.sqrt(pelee_nuWro_truth_df[\"pl_true_lep_energy\"]**2 - pelee_nuWro_truth_df[\"pl_true_lep_mass\"]**2)\n",
    "pelee_nuWro_truth_df[\"pl_true_lep_costheta\"] = np.cos(pelee_nuWro_truth_df[\"pl_true_lep_theta\"])\n",
    "\n",
    "\n",
    "pelee_nuWro_truth_df[\"pl_true_Q2\"] = 2 * pelee_nuWro_truth_df[\"pl_true_nu_energy\"] * (pelee_nuWro_truth_df[\"pl_true_lep_energy\"] - pelee_nuWro_truth_df[\"pl_true_lep_momentum\"] * pelee_nuWro_truth_df[\"pl_true_lep_costheta\"]) - pelee_nuWro_truth_df[\"pl_true_lep_KE\"]**2\n",
    "\n",
    "pelee_nuWro_truth_df\n"
   ]
  },
  {
   "cell_type": "code",
   "execution_count": null,
   "metadata": {},
   "outputs": [],
   "source": [
    "nuwro_fake_df = pd.merge(wc_nuwro_fake_df, pelee_nuWro_truth_df, on=[\"run\", \"subrun\", \"event\"], how=\"inner\")\n",
    "nuwro_fake_df\n"
   ]
  },
  {
   "cell_type": "markdown",
   "metadata": {},
   "source": [
    "# NuWro From XS Generator"
   ]
  },
  {
   "cell_type": "code",
   "execution_count": null,
   "metadata": {},
   "outputs": [],
   "source": [
    "f = uproot.open(\"generator_files/samples/NuWroCard_CC_Ar_uBFlux_1000.flat.root\")\n",
    "f.items()"
   ]
  },
  {
   "cell_type": "code",
   "execution_count": null,
   "metadata": {},
   "outputs": [],
   "source": []
  },
  {
   "cell_type": "code",
   "execution_count": null,
   "metadata": {},
   "outputs": [],
   "source": []
  },
  {
   "cell_type": "code",
   "execution_count": null,
   "metadata": {},
   "outputs": [],
   "source": []
  },
  {
   "cell_type": "code",
   "execution_count": null,
   "metadata": {},
   "outputs": [],
   "source": []
  }
 ],
 "metadata": {
  "kernelspec": {
   "display_name": "base_2",
   "language": "python",
   "name": "python3"
  },
  "language_info": {
   "codemirror_mode": {
    "name": "ipython",
    "version": 3
   },
   "file_extension": ".py",
   "mimetype": "text/x-python",
   "name": "python",
   "nbconvert_exporter": "python",
   "pygments_lexer": "ipython3",
   "version": "3.10.10"
  }
 },
 "nbformat": 4,
 "nbformat_minor": 2
}
